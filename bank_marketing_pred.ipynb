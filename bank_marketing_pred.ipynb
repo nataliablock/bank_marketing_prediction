{
 "cells": [
  {
   "cell_type": "markdown",
   "metadata": {},
   "source": [
    "## Bank Marketing Prediction "
   ]
  },
  {
   "cell_type": "markdown",
   "metadata": {},
   "source": [
    "## Objectives"
   ]
  },
  {
   "cell_type": "markdown",
   "metadata": {},
   "source": [
    "The goal is to predict if the client, who received marketing phone calls, will subscribe to a bank service (term deposit). \n",
    "\n",
    "Besides developing a classification model to predict if a client will subscribe to the service, I want to analyze how effective was the campaign and what type of client was more likely to subscribe.\n",
    "\n",
    "I am using the [Bank Marketing Dataset](http://archive.ics.uci.edu/ml/datasets/Bank+Marketing#) from the UCI Machine Learning Repository"
   ]
  },
  {
   "cell_type": "code",
   "execution_count": 1,
   "metadata": {},
   "outputs": [],
   "source": [
    "#Imports\n",
    "\n",
    "# Data munging and exploration\n",
    "import numpy as np\n",
    "from numpy import mean\n",
    "from numpy import std\n",
    "import pandas as pd\n",
    "\n",
    "# Data visualization\n",
    "import matplotlib.pyplot as plt\n",
    "import matplotlib as mpl\n",
    "%matplotlib inline \n",
    "import seaborn as sns\n",
    "sns.set(style=\"white\")\n",
    "sns.set(style=\"whitegrid\", color_codes=True)\n",
    "\n",
    "# Data pre-processing\n",
    "from sklearn.model_selection import train_test_split\n",
    "from imblearn.over_sampling import SMOTE\n",
    "from sklearn.preprocessing import MinMaxScaler\n",
    "\n",
    "#Feature Selection\n",
    "from sklearn.feature_selection import SelectKBest, mutual_info_classif, f_classif, RFE,RFECV, chi2\n",
    "from sklearn.pipeline import Pipeline\n",
    "\n",
    "#Modeling\n",
    "from sklearn.model_selection import cross_val_score, KFold\n",
    "from sklearn.linear_model import LogisticRegression\n",
    "from sklearn.naive_bayes import GaussianNB\n",
    "from sklearn.neighbors import KNeighborsClassifier\n",
    "from sklearn.tree import DecisionTreeClassifier\n",
    "from sklearn.svm import SVC\n",
    "from sklearn.ensemble import ExtraTreesClassifier,RandomForestClassifier, AdaBoostClassifier, GradientBoostingClassifier\n",
    "from sklearn.model_selection import GridSearchCV\n",
    "\n",
    "#Metrics\n",
    "from sklearn.metrics import accuracy_score,precision_score,confusion_matrix, classification_report\n",
    "\n",
    "#Hiding warnings\n",
    "import warnings\n",
    "warnings.filterwarnings(\"ignore\")"
   ]
  },
  {
   "cell_type": "markdown",
   "metadata": {},
   "source": [
    "## Loading data"
   ]
  },
  {
   "cell_type": "code",
   "execution_count": 2,
   "metadata": {},
   "outputs": [],
   "source": [
    "#Loading train dataset\n",
    "bank=pd.read_csv('data/bank-full.csv',  sep=';')"
   ]
  },
  {
   "cell_type": "code",
   "execution_count": 3,
   "metadata": {},
   "outputs": [
    {
     "name": "stdout",
     "output_type": "stream",
     "text": [
      "\n",
      " Bank dataset dimensions (45211, 17)\n",
      "<class 'pandas.core.frame.DataFrame'>\n",
      "RangeIndex: 45211 entries, 0 to 45210\n",
      "Data columns (total 17 columns):\n",
      " #   Column     Non-Null Count  Dtype \n",
      "---  ------     --------------  ----- \n",
      " 0   age        45211 non-null  int64 \n",
      " 1   job        45211 non-null  object\n",
      " 2   marital    45211 non-null  object\n",
      " 3   education  45211 non-null  object\n",
      " 4   default    45211 non-null  object\n",
      " 5   balance    45211 non-null  int64 \n",
      " 6   housing    45211 non-null  object\n",
      " 7   loan       45211 non-null  object\n",
      " 8   contact    45211 non-null  object\n",
      " 9   day        45211 non-null  int64 \n",
      " 10  month      45211 non-null  object\n",
      " 11  duration   45211 non-null  int64 \n",
      " 12  campaign   45211 non-null  int64 \n",
      " 13  pdays      45211 non-null  int64 \n",
      " 14  previous   45211 non-null  int64 \n",
      " 15  poutcome   45211 non-null  object\n",
      " 16  y          45211 non-null  object\n",
      "dtypes: int64(7), object(10)\n",
      "memory usage: 5.9+ MB\n",
      "\n",
      " Columns info None\n"
     ]
    }
   ],
   "source": [
    "# Checking the dataset\n",
    "\n",
    "print(\"\\n Bank dataset dimensions\", bank.shape)\n",
    "print(\"\\n Columns info\", bank.info())"
   ]
  },
  {
   "cell_type": "markdown",
   "metadata": {},
   "source": [
    "## Data Exploration and Feature Engineering"
   ]
  },
  {
   "cell_type": "markdown",
   "metadata": {},
   "source": [
    "<strong> y: target variable - </strong> Has the client subscribed to a term deposit? yes/no"
   ]
  },
  {
   "cell_type": "code",
   "execution_count": 4,
   "metadata": {},
   "outputs": [
    {
     "data": {
      "text/plain": [
       "y\n",
       "no     39922\n",
       "yes     5289\n",
       "dtype: int64"
      ]
     },
     "execution_count": 4,
     "metadata": {},
     "output_type": "execute_result"
    }
   ],
   "source": [
    "#Checking how many customers have subscribed to the service\n",
    "bank.groupby('y').size()"
   ]
  },
  {
   "cell_type": "markdown",
   "metadata": {},
   "source": [
    "There are two things that I'll have to work on here. First, I'll have to recode 'yes' and 'no' to numbers because the algorithms won't read the way it is now. Also, the categories are pretty unbalanced. I'll have to balance the dataset before modeling."
   ]
  },
  {
   "cell_type": "code",
   "execution_count": 5,
   "metadata": {},
   "outputs": [
    {
     "name": "stdout",
     "output_type": "stream",
     "text": [
      "share of clients subscribing to the service: 11.7\n",
      "share of clients not subscribing to the service: 88.3\n"
     ]
    }
   ],
   "source": [
    "#Taking a look at the proportion of the categories\n",
    "no_sub= len(bank[bank['y']=='no'])\n",
    "do_sub= len(bank[bank['y']=='yes'])\n",
    "pc_sub= do_sub/(do_sub + no_sub)\n",
    "print(\"share of clients subscribing to the service:\", round(pc_sub*100, 2))\n",
    "pc_no_sub= no_sub/(do_sub + no_sub)\n",
    "print(\"share of clients not subscribing to the service:\", round(pc_no_sub*100, 2))"
   ]
  },
  {
   "cell_type": "code",
   "execution_count": 6,
   "metadata": {},
   "outputs": [],
   "source": [
    "#Changing labels\n",
    "\n",
    "#creating a dictionary to change labels:\n",
    "y_labels={\"y\":{\"yes\":1,\"no\":0}}\n",
    "\n",
    "#changing the columns in the dataset and taking a look\n",
    "bank.replace(y_labels, inplace=True)"
   ]
  },
  {
   "cell_type": "markdown",
   "metadata": {},
   "source": [
    "<strong> Client data </strong>"
   ]
  },
  {
   "cell_type": "markdown",
   "metadata": {},
   "source": [
    "<strong> Age </strong>"
   ]
  },
  {
   "cell_type": "code",
   "execution_count": 7,
   "metadata": {},
   "outputs": [],
   "source": [
    "##Defining function to create histograms\n",
    "def hist_graph(data,column):\n",
    "    sns.histplot(data=data, x=column, color='teal')"
   ]
  },
  {
   "cell_type": "code",
   "execution_count": 8,
   "metadata": {},
   "outputs": [
    {
     "data": {
      "image/png": "[encoded data removed]",
      "text/plain": [
       "<Figure size 432x288 with 1 Axes>"
      ]
     },
     "metadata": {
      "needs_background": "light"
     },
     "output_type": "display_data"
    }
   ],
   "source": [
    "#checking the distribution of the variable\n",
    "hist_graph(bank,'age')"
   ]
  },
  {
   "cell_type": "markdown",
   "metadata": {},
   "source": [
    "Most clients are between 30-40 and 40-50 years of age. How about those who subscribed to the service?"
   ]
  },
  {
   "cell_type": "code",
   "execution_count": 9,
   "metadata": {},
   "outputs": [
    {
     "data": {
      "image/png": "[encoded data removed]",
      "text/plain": [
       "<Figure size 432x288 with 1 Axes>"
      ]
     },
     "metadata": {
      "needs_background": "light"
     },
     "output_type": "display_data"
    }
   ],
   "source": [
    "#distribution when y=1\n",
    "bank_y=bank[bank['y']==1]\n",
    "hist_graph(bank_y,'age')"
   ]
  },
  {
   "cell_type": "markdown",
   "metadata": {},
   "source": [
    "They are mostly on their late 20s and between 30-40 years of age"
   ]
  },
  {
   "cell_type": "markdown",
   "metadata": {},
   "source": [
    "<strong> Balance </strong>"
   ]
  },
  {
   "cell_type": "code",
   "execution_count": 10,
   "metadata": {},
   "outputs": [
    {
     "data": {
      "text/plain": [
       "count     45211.000000\n",
       "mean       1362.272058\n",
       "std        3044.765829\n",
       "min       -8019.000000\n",
       "25%          72.000000\n",
       "50%         448.000000\n",
       "75%        1428.000000\n",
       "max      102127.000000\n",
       "Name: balance, dtype: float64"
      ]
     },
     "execution_count": 10,
     "metadata": {},
     "output_type": "execute_result"
    }
   ],
   "source": [
    "bank['balance'].describe()"
   ]
  },
  {
   "cell_type": "code",
   "execution_count": 11,
   "metadata": {},
   "outputs": [
    {
     "data": {
      "text/plain": [
       "count     5289.000000\n",
       "mean      1804.267915\n",
       "std       3501.104777\n",
       "min      -3058.000000\n",
       "25%        210.000000\n",
       "50%        733.000000\n",
       "75%       2159.000000\n",
       "max      81204.000000\n",
       "Name: balance, dtype: float64"
      ]
     },
     "execution_count": 11,
     "metadata": {},
     "output_type": "execute_result"
    }
   ],
   "source": [
    "bank_y['balance'].describe()"
   ]
  },
  {
   "cell_type": "code",
   "execution_count": 12,
   "metadata": {},
   "outputs": [
    {
     "data": {
      "image/png": "[encoded data removed]",
      "text/plain": [
       "<Figure size 432x288 with 1 Axes>"
      ]
     },
     "metadata": {
      "needs_background": "light"
     },
     "output_type": "display_data"
    }
   ],
   "source": [
    "hist_graph(bank_y,'balance')"
   ]
  },
  {
   "cell_type": "markdown",
   "metadata": {},
   "source": [
    "Clients who subscribed to the service have in average a balance slightly higher than those who don't. Distribution is skewed to the left."
   ]
  },
  {
   "cell_type": "markdown",
   "metadata": {},
   "source": [
    "<strong> Job </strong>"
   ]
  },
  {
   "cell_type": "code",
   "execution_count": 13,
   "metadata": {},
   "outputs": [],
   "source": [
    "#Defining function to create count graphs\n",
    "def count_graph(data,column):\n",
    "    sns.catplot(y=column, data=data, kind=\"count\", color='darkturquoise',\n",
    "           order = data[column].value_counts().index)"
   ]
  },
  {
   "cell_type": "code",
   "execution_count": 14,
   "metadata": {},
   "outputs": [
    {
     "data": {
      "image/png": "[encoded data removed]",
      "text/plain": [
       "<Figure size 360x360 with 1 Axes>"
      ]
     },
     "metadata": {
      "needs_background": "light"
     },
     "output_type": "display_data"
    }
   ],
   "source": [
    "#Count\n",
    "count_graph(bank,'job')"
   ]
  },
  {
   "cell_type": "code",
   "execution_count": 15,
   "metadata": {},
   "outputs": [
    {
     "data": {
      "image/png": "[encoded data removed]",
      "text/plain": [
       "<Figure size 360x360 with 1 Axes>"
      ]
     },
     "metadata": {
      "needs_background": "light"
     },
     "output_type": "display_data"
    }
   ],
   "source": [
    "# Count of clients who got the service\n",
    "count_graph(bank_y,'job')"
   ]
  },
  {
   "cell_type": "markdown",
   "metadata": {},
   "source": [
    "Despite having more blue-collar workers in the dataset, managers and technicians are the ones who subscribed more to the service."
   ]
  },
  {
   "cell_type": "markdown",
   "metadata": {},
   "source": [
    "<strong> Marital </strong>"
   ]
  },
  {
   "cell_type": "code",
   "execution_count": 16,
   "metadata": {},
   "outputs": [
    {
     "data": {
      "image/png": "[encoded data removed]",
      "text/plain": [
       "<Figure size 360x360 with 1 Axes>"
      ]
     },
     "metadata": {
      "needs_background": "light"
     },
     "output_type": "display_data"
    }
   ],
   "source": [
    "count_graph(bank,'marital')"
   ]
  },
  {
   "cell_type": "markdown",
   "metadata": {},
   "source": [
    "<strong> Education </strong>"
   ]
  },
  {
   "cell_type": "code",
   "execution_count": 17,
   "metadata": {},
   "outputs": [
    {
     "data": {
      "image/png": "[encoded data removed]",
      "text/plain": [
       "<Figure size 360x360 with 1 Axes>"
      ]
     },
     "metadata": {
      "needs_background": "light"
     },
     "output_type": "display_data"
    }
   ],
   "source": [
    "count_graph(bank,'education')"
   ]
  },
  {
   "cell_type": "markdown",
   "metadata": {},
   "source": [
    "Most clients in the dataset are married and has secondary education "
   ]
  },
  {
   "cell_type": "markdown",
   "metadata": {},
   "source": [
    "<strong> Default: </strong> has credit in default?"
   ]
  },
  {
   "cell_type": "code",
   "execution_count": 18,
   "metadata": {},
   "outputs": [],
   "source": [
    "#Defining function to automate group_by and count values\n",
    "def group_count(data,column):\n",
    "    print(data.groupby(column).size())"
   ]
  },
  {
   "cell_type": "code",
   "execution_count": 19,
   "metadata": {},
   "outputs": [
    {
     "name": "stdout",
     "output_type": "stream",
     "text": [
      "default\n",
      "no     44396\n",
      "yes      815\n",
      "dtype: int64\n"
     ]
    }
   ],
   "source": [
    "group_count(bank,'default')"
   ]
  },
  {
   "cell_type": "code",
   "execution_count": 20,
   "metadata": {},
   "outputs": [
    {
     "name": "stdout",
     "output_type": "stream",
     "text": [
      "default\n",
      "no     5237\n",
      "yes      52\n",
      "dtype: int64\n"
     ]
    }
   ],
   "source": [
    "#did clients who got the service have credit in default?\n",
    "group_count(bank_y,'default')"
   ]
  },
  {
   "cell_type": "markdown",
   "metadata": {},
   "source": [
    "<strong> Housing </strong>"
   ]
  },
  {
   "cell_type": "code",
   "execution_count": 21,
   "metadata": {},
   "outputs": [
    {
     "name": "stdout",
     "output_type": "stream",
     "text": [
      "housing\n",
      "no     20081\n",
      "yes    25130\n",
      "dtype: int64\n"
     ]
    }
   ],
   "source": [
    "group_count(bank,'housing')"
   ]
  },
  {
   "cell_type": "code",
   "execution_count": 22,
   "metadata": {},
   "outputs": [
    {
     "name": "stdout",
     "output_type": "stream",
     "text": [
      "\n",
      " no housing: 44.416\n",
      "\n",
      " housing: 55.584\n"
     ]
    }
   ],
   "source": [
    "#Checking the proportions\n",
    "print('\\n no housing:',round(20081*100/len(bank),3))\n",
    "print('\\n housing:', round(25130*100/len(bank),3))"
   ]
  },
  {
   "cell_type": "code",
   "execution_count": 23,
   "metadata": {},
   "outputs": [
    {
     "name": "stdout",
     "output_type": "stream",
     "text": [
      "housing\n",
      "no     3354\n",
      "yes    1935\n",
      "dtype: int64\n"
     ]
    }
   ],
   "source": [
    "#did clients who got the service have a house?\n",
    "group_count(bank_y,'housing')"
   ]
  },
  {
   "cell_type": "code",
   "execution_count": 24,
   "metadata": {},
   "outputs": [
    {
     "name": "stdout",
     "output_type": "stream",
     "text": [
      "\n",
      " no housing: 63.415\n",
      "\n",
      " housing: 36.585\n"
     ]
    }
   ],
   "source": [
    "#Checking the proportions\n",
    "print('\\n no housing:',round(3354*100/len(bank_y),3))\n",
    "print('\\n housing:', round(1935*100/len(bank_y),3))"
   ]
  },
  {
   "cell_type": "markdown",
   "metadata": {},
   "source": [
    "Most clients who subscribed to the service do not have a house, differently from the overall pattern found in the whole dataset. "
   ]
  },
  {
   "cell_type": "markdown",
   "metadata": {},
   "source": [
    "<strong> Loan </strong>"
   ]
  },
  {
   "cell_type": "code",
   "execution_count": 25,
   "metadata": {},
   "outputs": [
    {
     "name": "stdout",
     "output_type": "stream",
     "text": [
      "loan\n",
      "no     37967\n",
      "yes     7244\n",
      "dtype: int64\n"
     ]
    }
   ],
   "source": [
    "group_count(bank,'loan')"
   ]
  },
  {
   "cell_type": "code",
   "execution_count": 26,
   "metadata": {},
   "outputs": [
    {
     "name": "stdout",
     "output_type": "stream",
     "text": [
      "\n",
      " no loan: 83.977\n",
      "\n",
      " loan: 16.023\n"
     ]
    }
   ],
   "source": [
    "#Checking the proportions\n",
    "print('\\n no loan:',round(37967*100/len(bank),3))\n",
    "print('\\n loan:', round(7244*100/len(bank),3))"
   ]
  },
  {
   "cell_type": "code",
   "execution_count": 27,
   "metadata": {},
   "outputs": [
    {
     "name": "stdout",
     "output_type": "stream",
     "text": [
      "loan\n",
      "no     4805\n",
      "yes     484\n",
      "dtype: int64\n"
     ]
    }
   ],
   "source": [
    "#did clients who got the service have a loan?\n",
    "group_count(bank_y,'loan')"
   ]
  },
  {
   "cell_type": "code",
   "execution_count": 28,
   "metadata": {},
   "outputs": [
    {
     "name": "stdout",
     "output_type": "stream",
     "text": [
      "\n",
      " no loan: 90.849\n",
      "\n",
      " loan: 9.151\n"
     ]
    }
   ],
   "source": [
    "#Checking the proportions\n",
    "print('\\n no loan:',round(4805*100/len(bank_y),3))\n",
    "print('\\n loan:', round(484*100/len(bank_y),3))"
   ]
  },
  {
   "cell_type": "markdown",
   "metadata": {},
   "source": [
    "<strong> Data about the last contact of the current campaign </strong>"
   ]
  },
  {
   "cell_type": "markdown",
   "metadata": {},
   "source": [
    "<strong> contact: </strong> contact communication type (categorical: 'cellular','telephone') "
   ]
  },
  {
   "cell_type": "code",
   "execution_count": 29,
   "metadata": {},
   "outputs": [
    {
     "name": "stdout",
     "output_type": "stream",
     "text": [
      "contact\n",
      "cellular     29285\n",
      "telephone     2906\n",
      "unknown      13020\n",
      "dtype: int64\n"
     ]
    }
   ],
   "source": [
    "group_count(bank,'contact')"
   ]
  },
  {
   "cell_type": "markdown",
   "metadata": {},
   "source": [
    "<strong> day: </strong> day of the month"
   ]
  },
  {
   "cell_type": "code",
   "execution_count": 30,
   "metadata": {},
   "outputs": [
    {
     "data": {
      "image/png": "[encoded data removed]",
      "text/plain": [
       "<Figure size 432x288 with 1 Axes>"
      ]
     },
     "metadata": {
      "needs_background": "light"
     },
     "output_type": "display_data"
    }
   ],
   "source": [
    "hist_graph(bank,'day')"
   ]
  },
  {
   "cell_type": "code",
   "execution_count": 31,
   "metadata": {},
   "outputs": [
    {
     "data": {
      "image/png": "[encoded data removed]",
      "text/plain": [
       "<Figure size 432x288 with 1 Axes>"
      ]
     },
     "metadata": {
      "needs_background": "light"
     },
     "output_type": "display_data"
    }
   ],
   "source": [
    "hist_graph(bank_y,'day')"
   ]
  },
  {
   "cell_type": "markdown",
   "metadata": {},
   "source": [
    "<strong> month </strong>"
   ]
  },
  {
   "cell_type": "code",
   "execution_count": 32,
   "metadata": {},
   "outputs": [
    {
     "data": {
      "image/png": "[encoded data removed]",
      "text/plain": [
       "<Figure size 360x360 with 1 Axes>"
      ]
     },
     "metadata": {
      "needs_background": "light"
     },
     "output_type": "display_data"
    }
   ],
   "source": [
    "count_graph(bank,'month')"
   ]
  },
  {
   "cell_type": "code",
   "execution_count": 33,
   "metadata": {},
   "outputs": [
    {
     "data": {
      "image/png": "[encoded data removed]",
      "text/plain": [
       "<Figure size 360x360 with 1 Axes>"
      ]
     },
     "metadata": {
      "needs_background": "light"
     },
     "output_type": "display_data"
    }
   ],
   "source": [
    "count_graph(bank_y,'month')"
   ]
  },
  {
   "cell_type": "markdown",
   "metadata": {},
   "source": [
    "<strong> duration: </strong> past contact duration, in seconds (numeric). Important note: this attribute highly affects the output target (e.g., if duration=0 then y='no'). Yet, the duration is not known before a call is performed. Also, after the end of the call y is obviously known. Thus, this input should only be included for benchmark purposes and should be discarded if the intention is to have a realistic predictive model."
   ]
  },
  {
   "cell_type": "code",
   "execution_count": 34,
   "metadata": {},
   "outputs": [
    {
     "data": {
      "image/png": "[encoded data removed]",
      "text/plain": [
       "<Figure size 432x288 with 1 Axes>"
      ]
     },
     "metadata": {
      "needs_background": "light"
     },
     "output_type": "display_data"
    }
   ],
   "source": [
    "hist_graph(bank,'duration')"
   ]
  },
  {
   "cell_type": "markdown",
   "metadata": {},
   "source": [
    "Since I wanna develop a predictive model I won't be able to use this feature since it is not possible to know how long the call will be before hand, which will be impossible to make a prediction about new calls. In this sense, I'll drop this feature."
   ]
  },
  {
   "cell_type": "code",
   "execution_count": 35,
   "metadata": {},
   "outputs": [],
   "source": [
    "del bank['duration']"
   ]
  },
  {
   "cell_type": "markdown",
   "metadata": {},
   "source": [
    "<strong> Data related to the campaign </strong>"
   ]
  },
  {
   "cell_type": "markdown",
   "metadata": {},
   "source": [
    "<strong> Campaign: </strong> number of contacts performed during the campaign for this client"
   ]
  },
  {
   "cell_type": "code",
   "execution_count": 36,
   "metadata": {},
   "outputs": [
    {
     "data": {
      "text/plain": [
       "count    45211.000000\n",
       "mean         2.763841\n",
       "std          3.098021\n",
       "min          1.000000\n",
       "25%          1.000000\n",
       "50%          2.000000\n",
       "75%          3.000000\n",
       "max         63.000000\n",
       "Name: campaign, dtype: float64"
      ]
     },
     "execution_count": 36,
     "metadata": {},
     "output_type": "execute_result"
    }
   ],
   "source": [
    "bank['campaign'].describe()"
   ]
  },
  {
   "cell_type": "code",
   "execution_count": 37,
   "metadata": {},
   "outputs": [
    {
     "data": {
      "text/plain": [
       "<matplotlib.axes._subplots.AxesSubplot at 0x7ffb7ec3fcf8>"
      ]
     },
     "execution_count": 37,
     "metadata": {},
     "output_type": "execute_result"
    },
    {
     "data": {
      "image/png": "[encoded data removed]",
      "text/plain": [
       "<Figure size 432x288 with 1 Axes>"
      ]
     },
     "metadata": {
      "needs_background": "light"
     },
     "output_type": "display_data"
    }
   ],
   "source": [
    "#Distribution of the campaign variable\n",
    "sns.boxplot(x=bank['campaign'], color='teal')"
   ]
  },
  {
   "cell_type": "code",
   "execution_count": 38,
   "metadata": {},
   "outputs": [
    {
     "name": "stdout",
     "output_type": "stream",
     "text": [
      "count    5289.000000\n",
      "mean        2.141047\n",
      "std         1.921826\n",
      "min         1.000000\n",
      "25%         1.000000\n",
      "50%         2.000000\n",
      "75%         3.000000\n",
      "max        32.000000\n",
      "Name: campaign, dtype: float64\n"
     ]
    },
    {
     "data": {
      "text/plain": [
       "<matplotlib.axes._subplots.AxesSubplot at 0x7ffb7eb8b128>"
      ]
     },
     "execution_count": 38,
     "metadata": {},
     "output_type": "execute_result"
    },
    {
     "data": {
      "image/png": "[encoded data removed]",
      "text/plain": [
       "<Figure size 432x288 with 1 Axes>"
      ]
     },
     "metadata": {
      "needs_background": "light"
     },
     "output_type": "display_data"
    }
   ],
   "source": [
    "#Distribution of the campaign variable only for clients who got the \n",
    "#service\n",
    "print(bank_y['campaign'].describe())\n",
    "sns.boxplot(x=bank_y['campaign'], color='teal')"
   ]
  },
  {
   "cell_type": "code",
   "execution_count": 39,
   "metadata": {},
   "outputs": [
    {
     "name": "stdout",
     "output_type": "stream",
     "text": [
      "Length of the dataset: 45211\n",
      "How many clients got more than 5 calls: 4355\n",
      "Proportion of clients who got more than 5 calls: 10 %\n"
     ]
    }
   ],
   "source": [
    "print('Length of the dataset:', len(bank))\n",
    "print('How many clients got more than 5 calls:',len(bank[bank['campaign']>5]))\n",
    "print('Proportion of clients who got more than 5 calls:',round(len(bank[bank['campaign']>5])/len(bank)*100),'%')"
   ]
  },
  {
   "cell_type": "markdown",
   "metadata": {},
   "source": [
    "Each client got around 2 to 3 calls on average on the whole dataset and among those who got the service. However, around 10% of the clients got more than 5 calls. It is a lot of calls and it may bother the clients to get so many of them. Let's see how many clients who got more than 5 calls subscribed to the service:"
   ]
  },
  {
   "cell_type": "code",
   "execution_count": 40,
   "metadata": {},
   "outputs": [
    {
     "name": "stdout",
     "output_type": "stream",
     "text": [
      "Proportion of clients who subscribed to the service and got more than 5 calls: 5 %\n",
      "Absolute number of clients who subscribed and received 5 calls: 253\n"
     ]
    }
   ],
   "source": [
    "print(\"Proportion of clients who subscribed to the service and got more than 5 calls:\",\n",
    "round(len(bank_y[bank_y['campaign']>5])/len(bank_y)*100),'%')\n",
    "\n",
    "print('Absolute number of clients who subscribed and received 5 calls:',len(bank_y[bank_y['campaign']>5]))"
   ]
  },
  {
   "cell_type": "markdown",
   "metadata": {},
   "source": [
    "Only 5% of the clients who subscribed to the service received more than 5 calls. Only 253 clients that received more than five calls got the service in a total of 45211 clients. This is less than 1% of the dataset. It seems like a loss of time and resources just to get a few more clients that could be used in another strategy (like getting more clients and offer them this service, for example)"
   ]
  },
  {
   "cell_type": "markdown",
   "metadata": {},
   "source": [
    "<strong> pdays: </strong> number of days that passed by after the client was last contacted from a previous campaign "
   ]
  },
  {
   "cell_type": "code",
   "execution_count": 41,
   "metadata": {},
   "outputs": [
    {
     "name": "stdout",
     "output_type": "stream",
     "text": [
      "Head pdays\n",
      "-1    36954\n",
      " 1       15\n",
      " 2       37\n",
      " 3        1\n",
      " 4        2\n",
      "dtype: int64\n",
      "Tail pdays\n",
      "838    1\n",
      "842    1\n",
      "850    1\n",
      "854    1\n",
      "871    1\n",
      "dtype: int64\n"
     ]
    }
   ],
   "source": [
    "print('Head',bank.groupby('pdays').size().head())\n",
    "print('Tail',bank.groupby('pdays').size().tail())"
   ]
  },
  {
   "cell_type": "markdown",
   "metadata": {},
   "source": [
    "Most of the cases has -1 as value. The data dictionary does not have any information about this value. It just says that if a client was not contacted it received the value 999, but there is no case with this value."
   ]
  },
  {
   "cell_type": "code",
   "execution_count": 42,
   "metadata": {},
   "outputs": [
    {
     "name": "stdout",
     "output_type": "stream",
     "text": [
      "Proportion of clients that were assigned -1 in pdays 81.74 %\n"
     ]
    }
   ],
   "source": [
    "print('Proportion of clients that were assigned -1 in pdays',round(36954/45211*100,2),'%')"
   ]
  },
  {
   "cell_type": "markdown",
   "metadata": {},
   "source": [
    "<strong> previous: </strong> number of contacts performed before this campaign and for this client (numeric)"
   ]
  },
  {
   "cell_type": "code",
   "execution_count": 43,
   "metadata": {},
   "outputs": [
    {
     "name": "stdout",
     "output_type": "stream",
     "text": [
      "previous\n",
      "0      36954\n",
      "1       2772\n",
      "2       2106\n",
      "3       1142\n",
      "4        714\n",
      "5        459\n",
      "6        277\n",
      "7        205\n",
      "8        129\n",
      "9         92\n",
      "10        67\n",
      "11        65\n",
      "12        44\n",
      "13        38\n",
      "14        19\n",
      "15        20\n",
      "16        13\n",
      "17        15\n",
      "18         6\n",
      "19        11\n",
      "20         8\n",
      "21         4\n",
      "22         6\n",
      "23         8\n",
      "24         5\n",
      "25         4\n",
      "26         2\n",
      "27         5\n",
      "28         2\n",
      "29         4\n",
      "30         3\n",
      "32         1\n",
      "35         1\n",
      "37         2\n",
      "38         2\n",
      "40         1\n",
      "41         1\n",
      "51         1\n",
      "55         1\n",
      "58         1\n",
      "275        1\n",
      "dtype: int64\n"
     ]
    }
   ],
   "source": [
    "group_count(bank,'previous')"
   ]
  },
  {
   "cell_type": "markdown",
   "metadata": {},
   "source": [
    "The number of zeros are the same of -1 in the pdays feature. This means that -1 in pdays is the same as zero days that passed after the client was contacted. I say it is zero days because actually the clients were never contacted. I can create another variable based on these two that will tell me if the client was ever contacted before. Before that I should check the outcome varible to see if it gives me this information (if there was a campaign call with the client or not)"
   ]
  },
  {
   "cell_type": "markdown",
   "metadata": {},
   "source": [
    "<strong> poutcome: </strong> outcome of the previous marketing campaign (categorical: 'failure','nonexistent','success')"
   ]
  },
  {
   "cell_type": "code",
   "execution_count": 44,
   "metadata": {},
   "outputs": [
    {
     "name": "stdout",
     "output_type": "stream",
     "text": [
      "poutcome\n",
      "failure     4901\n",
      "other       1840\n",
      "success     1511\n",
      "unknown    36959\n",
      "dtype: int64\n"
     ]
    }
   ],
   "source": [
    "group_count(bank,'poutcome')"
   ]
  },
  {
   "cell_type": "markdown",
   "metadata": {},
   "source": [
    "It seems that this more than 36.000 cases are clients that were not targeted on previous campaigns. I'll take a closer look on these cases."
   ]
  },
  {
   "cell_type": "code",
   "execution_count": 45,
   "metadata": {},
   "outputs": [
    {
     "name": "stdout",
     "output_type": "stream",
     "text": [
      "36954\n"
     ]
    }
   ],
   "source": [
    "#Creating a dataset with only pdays== -1\n",
    "df_pdays=bank[bank['pdays']==-1]\n",
    "print(len(df_pdays))"
   ]
  },
  {
   "cell_type": "code",
   "execution_count": 46,
   "metadata": {},
   "outputs": [
    {
     "name": "stdout",
     "output_type": "stream",
     "text": [
      "previous\n",
      "0    36954\n",
      "dtype: int64\n"
     ]
    }
   ],
   "source": [
    "group_count(df_pdays,'previous')"
   ]
  },
  {
   "cell_type": "code",
   "execution_count": 47,
   "metadata": {},
   "outputs": [
    {
     "data": {
      "text/plain": [
       "count    36954.000000\n",
       "mean         2.921957\n",
       "std          3.325791\n",
       "min          1.000000\n",
       "25%          1.000000\n",
       "50%          2.000000\n",
       "75%          3.000000\n",
       "max         63.000000\n",
       "Name: campaign, dtype: float64"
      ]
     },
     "execution_count": 47,
     "metadata": {},
     "output_type": "execute_result"
    }
   ],
   "source": [
    "df_pdays['campaign'].describe()"
   ]
  },
  {
   "cell_type": "markdown",
   "metadata": {},
   "source": [
    "Like I've imagined, pdays and previous presents values -1 and 0 for clients that were not contacted on previous campaigns and this was a huge amount (81%) of all clients. However they were contacted on this new campaign."
   ]
  },
  {
   "cell_type": "code",
   "execution_count": 48,
   "metadata": {},
   "outputs": [
    {
     "data": {
      "text/html": [
       "<div>\n",
       "<style scoped>\n",
       "    .dataframe tbody tr th:only-of-type {\n",
       "        vertical-align: middle;\n",
       "    }\n",
       "\n",
       "    .dataframe tbody tr th {\n",
       "        vertical-align: top;\n",
       "    }\n",
       "\n",
       "    .dataframe thead th {\n",
       "        text-align: right;\n",
       "    }\n",
       "</style>\n",
       "<table border=\"1\" class=\"dataframe\">\n",
       "  <thead>\n",
       "    <tr style=\"text-align: right;\">\n",
       "      <th></th>\n",
       "      <th>pdays</th>\n",
       "      <th>previous</th>\n",
       "    </tr>\n",
       "  </thead>\n",
       "  <tbody>\n",
       "    <tr>\n",
       "      <th>pdays</th>\n",
       "      <td>1.00000</td>\n",
       "      <td>0.45482</td>\n",
       "    </tr>\n",
       "    <tr>\n",
       "      <th>previous</th>\n",
       "      <td>0.45482</td>\n",
       "      <td>1.00000</td>\n",
       "    </tr>\n",
       "  </tbody>\n",
       "</table>\n",
       "</div>"
      ],
      "text/plain": [
       "            pdays  previous\n",
       "pdays     1.00000   0.45482\n",
       "previous  0.45482   1.00000"
      ]
     },
     "execution_count": 48,
     "metadata": {},
     "output_type": "execute_result"
    }
   ],
   "source": [
    "#Checking the correlation between pdays and previous\n",
    "prev=['pdays','previous']\n",
    "corr = bank[prev].corr()\n",
    "corr"
   ]
  },
  {
   "cell_type": "code",
   "execution_count": 49,
   "metadata": {},
   "outputs": [
    {
     "data": {
      "text/plain": [
       "<matplotlib.axes._subplots.AxesSubplot at 0x7ffb7e122908>"
      ]
     },
     "execution_count": 49,
     "metadata": {},
     "output_type": "execute_result"
    },
    {
     "data": {
      "image/png": "[encoded data removed]",
      "text/plain": [
       "<Figure size 432x288 with 2 Axes>"
      ]
     },
     "metadata": {
      "needs_background": "light"
     },
     "output_type": "display_data"
    }
   ],
   "source": [
    "#Correlation of numerical  features\n",
    "\n",
    "sns.heatmap(bank[['age','balance', 'campaign',\n",
    "                       'pdays','previous','y']].corr(),vmax=1., square=True)"
   ]
  },
  {
   "cell_type": "code",
   "execution_count": 50,
   "metadata": {},
   "outputs": [],
   "source": [
    "#Replacing -1 to zero on pdays\n",
    "bank['pdays']=bank['pdays'].replace(-1,0)"
   ]
  },
  {
   "cell_type": "markdown",
   "metadata": {},
   "source": [
    "There's some correlation but I don't think it is too high. I'll keep both features"
   ]
  },
  {
   "cell_type": "code",
   "execution_count": 51,
   "metadata": {},
   "outputs": [
    {
     "name": "stdout",
     "output_type": "stream",
     "text": [
      "\n",
      "Numerical Features: ['age', 'balance', 'campaign', 'pdays', 'previous']\n",
      "\n",
      "Categorial Features: ['job', 'marital', 'education', 'default', 'housing', 'loan', 'contact', 'day', 'month', 'poutcome', 'y']\n"
     ]
    }
   ],
   "source": [
    "#Transforming categorical variables\n",
    "\n",
    "#I'll separate lists with numerical and categorical features to\n",
    "#simplify data manipulation\n",
    "\n",
    "num=['age','balance', 'campaign','pdays','previous']\n",
    "\n",
    "cat=[i for i in bank.columns if i not in num]\n",
    "\n",
    "print('\\nNumerical Features:', num)\n",
    "print('\\nCategorial Features:', cat)"
   ]
  },
  {
   "cell_type": "code",
   "execution_count": 52,
   "metadata": {},
   "outputs": [
    {
     "name": "stdout",
     "output_type": "stream",
     "text": [
      "['job', 'marital', 'default', 'housing', 'loan', 'contact', 'day', 'month', 'poutcome']\n"
     ]
    }
   ],
   "source": [
    "#Education is an ordinal category. I'll encode it separately from the \n",
    "#others, so I'll have to take it off my cat list. I'll also take off \n",
    "#the target variable\n",
    "\n",
    "cat.remove('education')\n",
    "cat.remove('y')\n",
    "print(cat)\n"
   ]
  },
  {
   "cell_type": "code",
   "execution_count": 53,
   "metadata": {},
   "outputs": [],
   "source": [
    "#I'll do one hot encoding for all features in cat\n",
    "\n",
    "#one hot encoding using pandas\n",
    "bank=pd.get_dummies(bank, columns=cat)\n"
   ]
  },
  {
   "cell_type": "code",
   "execution_count": 54,
   "metadata": {},
   "outputs": [],
   "source": [
    "#Ordinal Encoding for education\n",
    "\n",
    "#defining dictionary\n",
    "education_dic={'education':{'unknown':0,'primary':1,'secondary':2,\n",
    "                            'tertiary':3}}\n",
    "\n",
    "#replacing\n",
    "bank=bank.replace(education_dic)"
   ]
  },
  {
   "cell_type": "code",
   "execution_count": 55,
   "metadata": {},
   "outputs": [
    {
     "name": "stdout",
     "output_type": "stream",
     "text": [
      "\n",
      "Numerical Features: ['age', 'balance', 'campaign', 'pdays', 'previous']\n",
      "\n",
      "Categorial Features: ['education', 'y', 'job_admin.', 'job_blue-collar', 'job_entrepreneur', 'job_housemaid', 'job_management', 'job_retired', 'job_self-employed', 'job_services', 'job_student', 'job_technician', 'job_unemployed', 'job_unknown', 'marital_divorced', 'marital_married', 'marital_single', 'default_no', 'default_yes', 'housing_no', 'housing_yes', 'loan_no', 'loan_yes', 'contact_cellular', 'contact_telephone', 'contact_unknown', 'day_1', 'day_2', 'day_3', 'day_4', 'day_5', 'day_6', 'day_7', 'day_8', 'day_9', 'day_10', 'day_11', 'day_12', 'day_13', 'day_14', 'day_15', 'day_16', 'day_17', 'day_18', 'day_19', 'day_20', 'day_21', 'day_22', 'day_23', 'day_24', 'day_25', 'day_26', 'day_27', 'day_28', 'day_29', 'day_30', 'day_31', 'month_apr', 'month_aug', 'month_dec', 'month_feb', 'month_jan', 'month_jul', 'month_jun', 'month_mar', 'month_may', 'month_nov', 'month_oct', 'month_sep', 'poutcome_failure', 'poutcome_other', 'poutcome_success', 'poutcome_unknown']\n"
     ]
    }
   ],
   "source": [
    "#Transforming categorical variables (again)\n",
    "\n",
    "#I'll separate lists with numerical and categorical features to\n",
    "#simplify data manipulation\n",
    "\n",
    "num=['age','balance', 'campaign','pdays','previous']\n",
    "\n",
    "cat=[i for i in bank.columns if i not in num]\n",
    "\n",
    "print('\\nNumerical Features:', num)\n",
    "print('\\nCategorial Features:', cat)"
   ]
  },
  {
   "cell_type": "markdown",
   "metadata": {},
   "source": [
    "## Splitting, Balancing and Scaling Data"
   ]
  },
  {
   "cell_type": "markdown",
   "metadata": {},
   "source": [
    "Splitting data. I'll stratify by the target variable to ensure I have the same proportion of both classes in training and testing. Then I'll re-index both datasets to avoid NAN when scaling data.\n"
   ]
  },
  {
   "cell_type": "markdown",
   "metadata": {},
   "source": [
    "**Splitting data**"
   ]
  },
  {
   "cell_type": "code",
   "execution_count": 56,
   "metadata": {},
   "outputs": [],
   "source": [
    "## Separating X and y\n",
    "X=bank.loc[:, bank.columns != 'y']\n",
    "y=bank['y']"
   ]
  },
  {
   "cell_type": "code",
   "execution_count": 57,
   "metadata": {},
   "outputs": [],
   "source": [
    "#Splitting\n",
    "\n",
    "X_train, X_test, y_train, y_test= train_test_split(\n",
    "    X,y, test_size=0.2, random_state=42, stratify=bank['y'], shuffle=True)"
   ]
  },
  {
   "cell_type": "code",
   "execution_count": 58,
   "metadata": {},
   "outputs": [],
   "source": [
    "#Re-index to avoid NAN when scaling data\n",
    "X_train=X_train.reset_index(drop=True)\n",
    "X_test=X_test.reset_index(drop=True)"
   ]
  },
  {
   "cell_type": "markdown",
   "metadata": {},
   "source": [
    "<strong> Balancing the training dataset </strong>"
   ]
  },
  {
   "cell_type": "code",
   "execution_count": 59,
   "metadata": {},
   "outputs": [],
   "source": [
    "#Defining SMOTE object. I'll increase minority class to have 70% the\n",
    "#number of examples of the majority class\n",
    "\n",
    "#Creating objects\n",
    "over = SMOTE(sampling_strategy=0.7, random_state=42)\n",
    "\n",
    "#Resampling\n",
    "X_train, y_train = over.fit_resample(X_train, y_train)"
   ]
  },
  {
   "cell_type": "code",
   "execution_count": 60,
   "metadata": {},
   "outputs": [
    {
     "data": {
      "text/plain": [
       "0    31937\n",
       "1    22355\n",
       "Name: y, dtype: int64"
      ]
     },
     "execution_count": 60,
     "metadata": {},
     "output_type": "execute_result"
    }
   ],
   "source": [
    "y_train.value_counts()"
   ]
  },
  {
   "cell_type": "markdown",
   "metadata": {},
   "source": [
    "<strong> Scaling data </strong>"
   ]
  },
  {
   "cell_type": "code",
   "execution_count": 61,
   "metadata": {},
   "outputs": [],
   "source": [
    "#Scaling numeric features. I'll use MinMaxScaler so the variables will\n",
    "# be between 0 and 1\n",
    "scaler = MinMaxScaler() \n",
    "\n",
    "X_train[num]= pd.DataFrame(scaler.fit_transform(X_train[num]))\n",
    "X_test[num]= pd.DataFrame(scaler.fit_transform(X_test[num]))"
   ]
  },
  {
   "cell_type": "code",
   "execution_count": 62,
   "metadata": {},
   "outputs": [
    {
     "name": "stdout",
     "output_type": "stream",
     "text": [
      "['job_admin.', 'job_blue-collar', 'job_entrepreneur', 'job_housemaid', 'job_management', 'job_retired', 'job_self-employed', 'job_services', 'job_student', 'job_technician', 'job_unemployed', 'job_unknown', 'marital_divorced', 'marital_married', 'marital_single', 'default_no', 'default_yes', 'housing_no', 'housing_yes', 'loan_no', 'loan_yes', 'contact_cellular', 'contact_telephone', 'contact_unknown', 'day_1', 'day_2', 'day_3', 'day_4', 'day_5', 'day_6', 'day_7', 'day_8', 'day_9', 'day_10', 'day_11', 'day_12', 'day_13', 'day_14', 'day_15', 'day_16', 'day_17', 'day_18', 'day_19', 'day_20', 'day_21', 'day_22', 'day_23', 'day_24', 'day_25', 'day_26', 'day_27', 'day_28', 'day_29', 'day_30', 'day_31', 'month_apr', 'month_aug', 'month_dec', 'month_feb', 'month_jan', 'month_jul', 'month_jun', 'month_mar', 'month_may', 'month_nov', 'month_oct', 'month_sep', 'poutcome_failure', 'poutcome_other', 'poutcome_success', 'poutcome_unknown']\n"
     ]
    }
   ],
   "source": [
    "#Education is an ordinal category. I'll encode it separately from the \n",
    "#others, so I'll have to take it off my cat list. I'll also take off \n",
    "#the target variable\n",
    "\n",
    "cat.remove('education')\n",
    "cat.remove('y')\n",
    "print(cat)\n"
   ]
  },
  {
   "cell_type": "code",
   "execution_count": 63,
   "metadata": {},
   "outputs": [],
   "source": [
    "#Transforming objects to category using cat list\n",
    "for column in X_train[cat]:\n",
    "    X_train[column]=X_train[column].astype('category')"
   ]
  },
  {
   "cell_type": "code",
   "execution_count": 64,
   "metadata": {},
   "outputs": [],
   "source": [
    "for column in X_test[cat]:\n",
    "    X_test[column]=X_test[column].astype('category')\n",
    "    "
   ]
  },
  {
   "cell_type": "code",
   "execution_count": 65,
   "metadata": {},
   "outputs": [],
   "source": [
    "#transforming y into category\n",
    "y_train=y_train.astype('category')\n",
    "y_test=y_test.astype('category')"
   ]
  },
  {
   "cell_type": "code",
   "execution_count": 66,
   "metadata": {},
   "outputs": [],
   "source": [
    "#exporting datasets\n",
    "X_train.to_csv('data/X_train.csv')\n",
    "y_train.to_csv('data/y_train.csv')\n",
    "X_test.to_csv('data/X_test.csv')\n",
    "y_test.to_csv('data/y_test.csv')"
   ]
  },
  {
   "cell_type": "markdown",
   "metadata": {},
   "source": [
    "## Feature Selection"
   ]
  },
  {
   "cell_type": "markdown",
   "metadata": {},
   "source": [
    "I'll do the feature selection using the train dataset. I'll run some feature selection techniques to verify how many features I'll add to the model based on their importance. Then I'll run some models through cross-validation to decide which set of features delivers better accuracy scores."
   ]
  },
  {
   "cell_type": "markdown",
   "metadata": {},
   "source": [
    "**Checking number of features**"
   ]
  },
  {
   "cell_type": "markdown",
   "metadata": {},
   "source": [
    "Before running the feature selection techniques I'll check how many features I should use by running a Recursive Feature Elimination with Cross-Validation (RFECV) and verifying the accuracy scores of decision trees with different numbers of features."
   ]
  },
  {
   "cell_type": "code",
   "execution_count": 67,
   "metadata": {},
   "outputs": [
    {
     "name": "stdout",
     "output_type": "stream",
     "text": [
      "Optimal number of features : 70\n"
     ]
    }
   ],
   "source": [
    "# Create the RFE object and compute a cross-validated score.\n",
    "\n",
    "#Estimator will be a decision tree\n",
    "est = DecisionTreeClassifier(random_state=0)\n",
    "\n",
    "# Minimum number of features to consider\n",
    "min_features_to_select = 1  \n",
    "\n",
    "#RFECV\n",
    "rfecv = RFECV(est, step=1, cv=KFold(n_splits=5),\n",
    "              scoring='accuracy',\n",
    "              min_features_to_select=min_features_to_select)\n",
    "rfecv.fit(X_train, y_train)\n",
    "\n",
    "\n",
    "print(\"Optimal number of features : %d\" % rfecv.n_features_)"
   ]
  },
  {
   "cell_type": "code",
   "execution_count": 68,
   "metadata": {},
   "outputs": [
    {
     "data": {
      "image/png": "[encoded data removed]",
      "text/plain": [
       "<Figure size 432x288 with 1 Axes>"
      ]
     },
     "metadata": {
      "needs_background": "light"
     },
     "output_type": "display_data"
    }
   ],
   "source": [
    "# Plot number of features VS. cross-validation scores\n",
    "plt.figure()\n",
    "plt.xlabel('Number of features selected')\n",
    "plt.ylabel('Cross validation score (accuracy)')\n",
    "plt.plot(range(min_features_to_select,\n",
    "               len(rfecv.grid_scores_) + min_features_to_select),\n",
    "         rfecv.grid_scores_)\n",
    "plt.show()"
   ]
  },
  {
   "cell_type": "code",
   "execution_count": 69,
   "metadata": {},
   "outputs": [],
   "source": [
    "# get a list of models to evaluate\n",
    "def get_models():\n",
    "    models = dict()\n",
    "    for i in range(10, 35,5):\n",
    "        rfe = RFE(estimator=DecisionTreeClassifier(), n_features_to_select=i)\n",
    "        model = DecisionTreeClassifier()\n",
    "        models[str(i)] = Pipeline(steps=[('s',rfe),('m',model)])\n",
    "    return models\n",
    " \n",
    "# evaluate a given model using cross-validation\n",
    "def evaluate_model(model, X, y):\n",
    "    cv = KFold(n_splits=5)\n",
    "    scores = cross_val_score(model, X, y, scoring='accuracy', cv=cv, n_jobs=-1, error_score='raise')\n",
    "    return scores"
   ]
  },
  {
   "cell_type": "code",
   "execution_count": 70,
   "metadata": {},
   "outputs": [
    {
     "name": "stdout",
     "output_type": "stream",
     "text": [
      ">10 features 0.818 (0.024)\n",
      ">15 features 0.844 (0.033)\n",
      ">20 features 0.866 (0.049)\n",
      ">25 features 0.874 (0.056)\n",
      ">30 features 0.875 (0.060)\n"
     ]
    }
   ],
   "source": [
    "# get the models to evaluate\n",
    "models = get_models()\n",
    "# evaluate the models and store results\n",
    "results, names = list(), list()\n",
    "for name, model in models.items():\n",
    "    scores = evaluate_model(model, X_train, y_train)\n",
    "    results.append(scores)\n",
    "    names.append(name)\n",
    "    print('>%s features %.3f (%.3f)' % (name, mean(scores), std(scores)))"
   ]
  },
  {
   "cell_type": "markdown",
   "metadata": {},
   "source": [
    "The RFECV indicates that the best number of features would be 70. However, since I just checked accuracy it is likely that a model with 70 features and really high scores would be overfitting. The graph shows an important jump in accuracy score values from 10 to 30 features and then the values stabilize, not showing great improvement as features are added. I'll do the feature selection with 20 features and will evaluate the results to consider reducing this number even more.  "
   ]
  },
  {
   "cell_type": "markdown",
   "metadata": {},
   "source": [
    "**SelectKBest**"
   ]
  },
  {
   "cell_type": "code",
   "execution_count": 71,
   "metadata": {},
   "outputs": [],
   "source": [
    "#Creating object SelectKBest\n",
    "\n",
    "skb=SelectKBest(chi2, k=20)\n",
    "\n",
    "#Applying to data\n",
    "best_skb = skb.fit_transform(X_train, y_train)\n",
    "\n",
    "# Saving the best predictors in a list\n",
    "feat_skb=X_train.columns[skb.get_support()]"
   ]
  },
  {
   "cell_type": "code",
   "execution_count": 72,
   "metadata": {},
   "outputs": [],
   "source": [
    "#Creating series with scores\n",
    "skb_series=pd.Series(skb.scores_, index=X_train.columns)\n",
    "\n",
    "#Sorting ascending\n",
    "skb_series=skb_series[feat_skb].sort_values(ascending=True)\n"
   ]
  },
  {
   "cell_type": "code",
   "execution_count": 73,
   "metadata": {},
   "outputs": [
    {
     "data": {
      "text/plain": [
       "<matplotlib.axes._subplots.AxesSubplot at 0x7ffb7df458d0>"
      ]
     },
     "execution_count": 73,
     "metadata": {},
     "output_type": "execute_result"
    },
    {
     "data": {
      "image/png": "[encoded data removed]",
      "text/plain": [
       "<Figure size 576x432 with 1 Axes>"
      ]
     },
     "metadata": {
      "needs_background": "light"
     },
     "output_type": "display_data"
    }
   ],
   "source": [
    "#Plotting scores\n",
    "skb_series.plot(kind='barh', color='teal', figsize=(8,6),\n",
    "               title='SelectKBest Scores')"
   ]
  },
  {
   "cell_type": "markdown",
   "metadata": {},
   "source": [
    "**Information Gain**"
   ]
  },
  {
   "cell_type": "code",
   "execution_count": 74,
   "metadata": {},
   "outputs": [],
   "source": [
    "#Creating object\n",
    "ig=mutual_info_classif(X_train, y_train)\n",
    "\n",
    "#Saving scores in a pandas series.\n",
    "ig_series = pd.Series(ig, index = X_train.columns)\n",
    "\n",
    "#Saving in decreasing order.\n",
    "ig_series = ig_series.sort_values(ascending = False).head(20)"
   ]
  },
  {
   "cell_type": "code",
   "execution_count": 75,
   "metadata": {},
   "outputs": [
    {
     "data": {
      "text/plain": [
       "<matplotlib.axes._subplots.AxesSubplot at 0x7ffb7f39e9b0>"
      ]
     },
     "execution_count": 75,
     "metadata": {},
     "output_type": "execute_result"
    },
    {
     "data": {
      "image/png": "[encoded data removed]",
      "text/plain": [
       "<Figure size 576x432 with 1 Axes>"
      ]
     },
     "metadata": {
      "needs_background": "light"
     },
     "output_type": "display_data"
    }
   ],
   "source": [
    "#Plotting scores\n",
    "ig_series.sort_values(ascending=True).plot(kind='barh', color='teal', \n",
    "                                           figsize=(8,6), title='Information Gain Scores')"
   ]
  },
  {
   "cell_type": "markdown",
   "metadata": {},
   "source": [
    "**Extra Trees Feature Importance**"
   ]
  },
  {
   "cell_type": "code",
   "execution_count": 76,
   "metadata": {},
   "outputs": [],
   "source": [
    "#Creating object (default hyperparameters)\n",
    "\n",
    "etc=ExtraTreesClassifier()\n",
    "\n",
    "#Fitting algorithm\n",
    "etc.fit(X=X_train, y=y_train)\n",
    "\n",
    "#Adding scores to a series\n",
    "etc_series=pd.Series(etc.feature_importances_, index=X_train.columns)\n",
    "\n",
    "#Sorting\n",
    "etc_series=etc_series.sort_values(ascending=False).head(20)"
   ]
  },
  {
   "cell_type": "code",
   "execution_count": 77,
   "metadata": {},
   "outputs": [
    {
     "data": {
      "text/plain": [
       "<matplotlib.axes._subplots.AxesSubplot at 0x7ffb7e993d30>"
      ]
     },
     "execution_count": 77,
     "metadata": {},
     "output_type": "execute_result"
    },
    {
     "data": {
      "image/png": "[encoded data removed]",
      "text/plain": [
       "<Figure size 576x432 with 1 Axes>"
      ]
     },
     "metadata": {
      "needs_background": "light"
     },
     "output_type": "display_data"
    }
   ],
   "source": [
    "#Plotting scores\n",
    "etc_series.sort_values(ascending=True).plot(kind='barh', color='teal', \n",
    "                                           figsize=(8,6), title='Extra Trees Scores')"
   ]
  },
  {
   "cell_type": "markdown",
   "metadata": {},
   "source": [
    "**Random Forest Feature Importance**"
   ]
  },
  {
   "cell_type": "code",
   "execution_count": 78,
   "metadata": {},
   "outputs": [],
   "source": [
    "#Creating object (default hyperparameters)\n",
    "\n",
    "rfc=RandomForestClassifier()\n",
    "\n",
    "#Fitting algorithm\n",
    "rfc.fit(X=X_train, y=y_train)\n",
    "\n",
    "#Adding scores to a series\n",
    "rfc_series=pd.Series(rfc.feature_importances_, index=X_train.columns)\n",
    "\n",
    "#Sorting\n",
    "rfc_series=rfc_series.sort_values(ascending=False).head(20)"
   ]
  },
  {
   "cell_type": "code",
   "execution_count": 79,
   "metadata": {},
   "outputs": [
    {
     "data": {
      "text/plain": [
       "<matplotlib.axes._subplots.AxesSubplot at 0x7ffb7e22c710>"
      ]
     },
     "execution_count": 79,
     "metadata": {},
     "output_type": "execute_result"
    },
    {
     "data": {
      "image/png": "[encoded data removed]",
      "text/plain": [
       "<Figure size 576x432 with 1 Axes>"
      ]
     },
     "metadata": {
      "needs_background": "light"
     },
     "output_type": "display_data"
    }
   ],
   "source": [
    "#Plotting scores\n",
    "rfc_series.sort_values(ascending=True).plot(kind='barh', color='teal', \n",
    "                                           figsize=(8,6), title='Random Forest Scores')"
   ]
  },
  {
   "cell_type": "markdown",
   "metadata": {},
   "source": [
    "**RFE**"
   ]
  },
  {
   "cell_type": "code",
   "execution_count": 80,
   "metadata": {},
   "outputs": [],
   "source": [
    "#Creating object (with decision tree classifier algorithm on its \n",
    "#default hyperparameters)\n",
    "\n",
    "rfe=RFE(estimator=DecisionTreeClassifier(), n_features_to_select=15)\n",
    "\n",
    "#Fitting algorithm\n",
    "rfe=rfe.fit(X=X_train, y=y_train)\n",
    "\n",
    "#Collecting features\n",
    "rfe_feat=X_train.columns[rfe.support_]"
   ]
  },
  {
   "cell_type": "markdown",
   "metadata": {},
   "source": [
    "I decided to work with 15 features for now. The original dataset has 17 features so it doesn't seem reasonable to run a model with more features than the original dataset has. I am trying to prevent overfitting. Besides, all feature selection tecniques presented more or less the same features among the top 15 ones. If the models don't look nice at the end I may come back to add features if necessary."
   ]
  },
  {
   "cell_type": "code",
   "execution_count": 81,
   "metadata": {},
   "outputs": [],
   "source": [
    "# Creating X dataframes to evaluate the best set of features\n",
    "\n",
    "#SelectKBest features\n",
    "X_skb=X_train[skb_series.sort_values(ascending=False).head(15).index]\n",
    "\n",
    "#Information Gain Features\n",
    "X_ig=X_train[ig_series.sort_values(ascending=False).head(15).index]\n",
    "\n",
    "#Extra Trees \n",
    "X_etc=X_train[etc_series.sort_values(ascending=False).head(15).index]\n",
    "\n",
    "#Random Forest\n",
    "X_rfc=X_train[rfc_series.sort_values(ascending=False).head(15).index]\n",
    "\n",
    "#RFE\n",
    "X_rfe=X_train[rfe_feat]"
   ]
  },
  {
   "cell_type": "markdown",
   "metadata": {},
   "source": [
    "## Predictive Modeling"
   ]
  },
  {
   "cell_type": "markdown",
   "metadata": {},
   "source": [
    "Defining function to run different algorithms in order to identify the set of features that performs best (best accuracy score). For now I'll run the models with their default hyperparemeters."
   ]
  },
  {
   "cell_type": "code",
   "execution_count": 82,
   "metadata": {},
   "outputs": [],
   "source": [
    "def classifiers(X, y, printMeans = True, scoring='accuracy'):\n",
    "    \n",
    "    # Setting seed and number of folds.\n",
    "    \n",
    "    folds = 5\n",
    "\n",
    "    # List to save models.\n",
    "\n",
    "    models = []\n",
    "\n",
    "    # Lists to save results and the names of the algorithms.\n",
    "\n",
    "    results = []\n",
    "    names   = []\n",
    "\n",
    "    # Dataframe to save means and standard deviations.\n",
    "\n",
    "    means   = pd.DataFrame(columns = ['mean', 'std'])\n",
    "\n",
    "    #Appending models to the models list. I'm running algorithms \n",
    "    #with their default hyperparemeters.\n",
    "\n",
    "    models.append(('Logistic Regression', LogisticRegression()))\n",
    "    models.append(('Naive Bayes', GaussianNB()))\n",
    "    models.append(('KNN', KNeighborsClassifier()))\n",
    "    models.append(('CART', DecisionTreeClassifier()))\n",
    "    models.append(('SVM', SVC()))\n",
    "    models.append(('AdaBoost', AdaBoostClassifier()))\n",
    "    models.append(('Gradient Boosting', GradientBoostingClassifier()))\n",
    "    models.append(('Random Forest', RandomForestClassifier()))\n",
    "\n",
    "    # Evaluation\n",
    "\n",
    "    for name, model in models:\n",
    "        \n",
    "        # Kfold object.\n",
    "\n",
    "        fold = KFold(n_splits = folds)\n",
    "        \n",
    "        # Cross Validation.\n",
    "\n",
    "        cv_results = cross_val_score(model, X, y, cv = fold, scoring = scoring)\n",
    "        \n",
    "        # Appending results to results list.\n",
    "\n",
    "        results.append(cv_results)\n",
    "        \n",
    "        # Appending algorithm names to names list.\n",
    "\n",
    "        names.append(name)\n",
    "\n",
    "        # Saving means and standard deviations to means dataframe\n",
    "\n",
    "        means = means.append (\n",
    "            pd.DataFrame (\n",
    "                data    = [[cv_results.mean(), cv_results.std()]], \n",
    "                columns = ['mean', 'std'], \n",
    "                index   = [name]\n",
    "            )\n",
    "        )\n",
    "\n",
    "        # Printing results (default is 'True')\n",
    "        \n",
    "        if printMeans:\n",
    "            msg = \"%s: %f (%f)\" % (name, cv_results.mean(), cv_results.std())\n",
    "            print(msg)\n",
    "\n",
    "    # Dataframe with results\n",
    "\n",
    "    results = pd.DataFrame(np.transpose(results), columns = names)\n",
    "\n",
    "    # Return dataframe\n",
    "    return (results, means)"
   ]
  },
  {
   "cell_type": "code",
   "execution_count": 83,
   "metadata": {},
   "outputs": [
    {
     "name": "stdout",
     "output_type": "stream",
     "text": [
      "Logistic Regression: 0.833862 (0.017931)\n",
      "Naive Bayes: 0.849371 (0.037173)\n",
      "KNN: 0.687811 (0.244034)\n",
      "CART: 0.829754 (0.010687)\n",
      "SVM: 0.830638 (0.011773)\n",
      "AdaBoost: 0.831615 (0.020996)\n",
      "Gradient Boosting: 0.831707 (0.014496)\n",
      "Random Forest: 0.832388 (0.016553)\n"
     ]
    }
   ],
   "source": [
    "## Evaluating algorithms with features selected by SelectKBest\n",
    "\n",
    "check_skb=classifiers(X=X_skb, y=y_train)"
   ]
  },
  {
   "cell_type": "code",
   "execution_count": 84,
   "metadata": {},
   "outputs": [
    {
     "name": "stdout",
     "output_type": "stream",
     "text": [
      "Logistic Regression: 0.786082 (0.039216)\n",
      "Naive Bayes: 0.800801 (0.043336)\n",
      "KNN: 0.778586 (0.024384)\n",
      "CART: 0.794519 (0.015990)\n",
      "SVM: 0.804354 (0.013562)\n",
      "AdaBoost: 0.767792 (0.047835)\n",
      "Gradient Boosting: 0.786874 (0.038722)\n",
      "Random Forest: 0.823805 (0.015643)\n"
     ]
    }
   ],
   "source": [
    "## Evaluating algorithms with features selected by Information Gain\n",
    "\n",
    "check_ig=classifiers(X=X_ig, y=y_train)"
   ]
  },
  {
   "cell_type": "code",
   "execution_count": 85,
   "metadata": {},
   "outputs": [
    {
     "name": "stdout",
     "output_type": "stream",
     "text": [
      "Logistic Regression: 0.823382 (0.022813)\n",
      "Naive Bayes: 0.839111 (0.027243)\n",
      "KNN: 0.831522 (0.017078)\n",
      "CART: 0.832260 (0.039729)\n",
      "SVM: 0.831817 (0.023287)\n",
      "AdaBoost: 0.823032 (0.025471)\n",
      "Gradient Boosting: 0.835022 (0.016732)\n",
      "Random Forest: 0.859022 (0.021923)\n"
     ]
    }
   ],
   "source": [
    "## Evaluating algorithms with features selected by Extra Trees\n",
    "\n",
    "check_etc=classifiers(X=X_etc, y=y_train)"
   ]
  },
  {
   "cell_type": "code",
   "execution_count": 86,
   "metadata": {},
   "outputs": [
    {
     "name": "stdout",
     "output_type": "stream",
     "text": [
      "Logistic Regression: 0.816088 (0.024826)\n",
      "Naive Bayes: 0.833273 (0.034828)\n",
      "KNN: 0.839498 (0.017766)\n",
      "CART: 0.838762 (0.040373)\n",
      "SVM: 0.849942 (0.013850)\n",
      "AdaBoost: 0.823602 (0.020694)\n",
      "Gradient Boosting: 0.830325 (0.017090)\n",
      "Random Forest: 0.871805 (0.024395)\n"
     ]
    }
   ],
   "source": [
    "## Evaluating algorithms with features selected by Random Forest\n",
    "\n",
    "check_rfc=classifiers(X=X_rfc, y=y_train)"
   ]
  },
  {
   "cell_type": "code",
   "execution_count": 87,
   "metadata": {},
   "outputs": [
    {
     "name": "stdout",
     "output_type": "stream",
     "text": [
      "Logistic Regression: 0.853294 (0.020655)\n",
      "Naive Bayes: 0.853626 (0.031418)\n",
      "KNN: 0.850918 (0.015721)\n",
      "CART: 0.847916 (0.033836)\n",
      "SVM: 0.858211 (0.020396)\n",
      "AdaBoost: 0.847989 (0.019746)\n",
      "Gradient Boosting: 0.855633 (0.015897)\n",
      "Random Forest: 0.874071 (0.022115)\n"
     ]
    }
   ],
   "source": [
    "## Evaluating algorithms with features selected by RFE\n",
    "\n",
    "check_rfe=classifiers(X=X_rfe, y=y_train)"
   ]
  },
  {
   "cell_type": "markdown",
   "metadata": {},
   "source": [
    "Features selected by RFE presented better accuracy scores. Scores are around the same for all algorithms, so I'll discard SVM because it is too computationally demanding."
   ]
  },
  {
   "cell_type": "code",
   "execution_count": 88,
   "metadata": {},
   "outputs": [],
   "source": [
    "# Preparing features \n",
    "\n",
    "#Test set\n",
    "X_rfe_test=X_test[rfe_feat]"
   ]
  },
  {
   "cell_type": "code",
   "execution_count": 89,
   "metadata": {},
   "outputs": [],
   "source": [
    "#Function to train and test\n",
    "\n",
    "def do_train_test(algorithm):\n",
    "\n",
    "    # Object with the selected model\n",
    "    algo=algorithm\n",
    "    \n",
    "    #print chosen algorithm\n",
    "    print('Algorithm:', algo)\n",
    "\n",
    "    #Training and Testing\n",
    "    model=algo.fit(X_rfe,y_train)\n",
    "\n",
    "    #Train result\n",
    "    model_train_result=model.score(X_rfe,y_train)\n",
    "\n",
    "    print(\"Accuracy on training: %.3f%%\" % (model_train_result * 100.0))\n",
    "\n",
    "    #Test results\n",
    "    model_pred=model.predict(X_rfe_test)\n",
    "\n",
    "    model_test_result=accuracy_score(y_test,model_pred)\n",
    "\n",
    "    print(\"Accuracy on test: %.3f%%\" % (model_test_result * 100.0))"
   ]
  },
  {
   "cell_type": "code",
   "execution_count": 90,
   "metadata": {},
   "outputs": [],
   "source": [
    "#Training and testing with selected algorithms\n",
    "\n",
    "algo=[RandomForestClassifier(),GradientBoostingClassifier(), AdaBoostClassifier(),\n",
    "      GaussianNB(), LogisticRegression()]"
   ]
  },
  {
   "cell_type": "code",
   "execution_count": 91,
   "metadata": {},
   "outputs": [
    {
     "name": "stdout",
     "output_type": "stream",
     "text": [
      "Algorithm: RandomForestClassifier()\n",
      "Accuracy on training: 99.604%\n",
      "Accuracy on test: 84.142%\n",
      "Algorithm: GradientBoostingClassifier()\n",
      "Accuracy on training: 88.083%\n",
      "Accuracy on test: 85.768%\n",
      "Algorithm: AdaBoostClassifier()\n",
      "Accuracy on training: 87.527%\n",
      "Accuracy on test: 85.525%\n",
      "Algorithm: GaussianNB()\n",
      "Accuracy on training: 85.280%\n",
      "Accuracy on test: 83.700%\n",
      "Algorithm: LogisticRegression()\n",
      "Accuracy on training: 87.427%\n",
      "Accuracy on test: 85.635%\n"
     ]
    },
    {
     "data": {
      "text/plain": [
       "[None, None, None, None, None]"
      ]
     },
     "execution_count": 91,
     "metadata": {},
     "output_type": "execute_result"
    }
   ],
   "source": [
    "list(map(do_train_test, algo))"
   ]
  },
  {
   "cell_type": "markdown",
   "metadata": {},
   "source": [
    "I clearly have overfitting with Random Forest. Now I'll take a quick look at the metrics of the other algorithms"
   ]
  },
  {
   "cell_type": "code",
   "execution_count": 92,
   "metadata": {},
   "outputs": [],
   "source": [
    "#Function to create classification report for selected algorithms\n",
    "\n",
    "    \n",
    "def classifiers_metrics(X_train, y_train, X_test, y_test):\n",
    "\n",
    "    # List to save models.\n",
    "\n",
    "    models = []\n",
    "\n",
    "    # Lists to save the names of the algorithms.\n",
    "    \n",
    "    names   = []\n",
    "\n",
    "    #Appending models to the models list. \n",
    "    \n",
    "    models.append(('Gradient Boosting', GradientBoostingClassifier()))\n",
    "    models.append(('AdaBoost', AdaBoostClassifier()))\n",
    "    models.append(('Naive Bayes', GaussianNB()))\n",
    "    models.append(('Logistic Regression', LogisticRegression()))\n",
    "\n",
    "\n",
    "    # Evaluation\n",
    "\n",
    "    for name, model in models:\n",
    "        \n",
    "        #Saving names to the list\n",
    "        names.append(name)\n",
    "        \n",
    "        #Training and Testing\n",
    "        pred = model.fit(X_train,y_train).predict(X_test)\n",
    "        \n",
    "        # Metrics report      \n",
    "        print('Accuracy of', name, 'on test set: {:.3f}'.format(model.score(X_test,y_test)))\n",
    "        print(classification_report(y_test, pred))  "
   ]
  },
  {
   "cell_type": "code",
   "execution_count": 93,
   "metadata": {},
   "outputs": [
    {
     "name": "stdout",
     "output_type": "stream",
     "text": [
      "Accuracy of Gradient Boosting on test set: 0.858\n",
      "              precision    recall  f1-score   support\n",
      "\n",
      "           0       0.92      0.92      0.92      7985\n",
      "           1       0.40      0.41      0.40      1058\n",
      "\n",
      "    accuracy                           0.86      9043\n",
      "   macro avg       0.66      0.67      0.66      9043\n",
      "weighted avg       0.86      0.86      0.86      9043\n",
      "\n",
      "Accuracy of AdaBoost on test set: 0.855\n",
      "              precision    recall  f1-score   support\n",
      "\n",
      "           0       0.92      0.92      0.92      7985\n",
      "           1       0.38      0.37      0.37      1058\n",
      "\n",
      "    accuracy                           0.86      9043\n",
      "   macro avg       0.65      0.64      0.65      9043\n",
      "weighted avg       0.85      0.86      0.85      9043\n",
      "\n",
      "Accuracy of Naive Bayes on test set: 0.837\n",
      "              precision    recall  f1-score   support\n",
      "\n",
      "           0       0.92      0.89      0.91      7985\n",
      "           1       0.34      0.40      0.37      1058\n",
      "\n",
      "    accuracy                           0.84      9043\n",
      "   macro avg       0.63      0.65      0.64      9043\n",
      "weighted avg       0.85      0.84      0.84      9043\n",
      "\n",
      "Accuracy of Logistic Regression on test set: 0.856\n",
      "              precision    recall  f1-score   support\n",
      "\n",
      "           0       0.91      0.92      0.92      7985\n",
      "           1       0.38      0.35      0.36      1058\n",
      "\n",
      "    accuracy                           0.86      9043\n",
      "   macro avg       0.65      0.64      0.64      9043\n",
      "weighted avg       0.85      0.86      0.85      9043\n",
      "\n"
     ]
    }
   ],
   "source": [
    "classifiers_metrics(X_rfe, y_train, X_rfe_test, y_test)"
   ]
  },
  {
   "cell_type": "markdown",
   "metadata": {},
   "source": [
    "All agorithms present similar metrics, other than Naive Bayes. Gradient Boosting showed slightly better metrics. "
   ]
  },
  {
   "cell_type": "code",
   "execution_count": 94,
   "metadata": {},
   "outputs": [
    {
     "data": {
      "text/plain": [
       "Text(0.5, 12.453125, 'Predicted label')"
      ]
     },
     "execution_count": 94,
     "metadata": {},
     "output_type": "execute_result"
    },
    {
     "data": {
      "image/png": "[encoded data removed]",
      "text/plain": [
       "<Figure size 432x288 with 2 Axes>"
      ]
     },
     "metadata": {
      "needs_background": "light"
     },
     "output_type": "display_data"
    }
   ],
   "source": [
    "#Confusion_matrix of Gradient Boosting model\n",
    "\n",
    "#Training gradient boosting\n",
    "model=GradientBoostingClassifier()\n",
    "model.fit(X_rfe,y_train)\n",
    "\n",
    "y_pred= model.predict(X_rfe_test)\n",
    "confusion_matrix = confusion_matrix(y_test, y_pred)\n",
    "\n",
    "confusion_matrix_df = pd.DataFrame(confusion_matrix, ('No subscription', 'Subscription'), ('No subscription', 'Subscription'))\n",
    "heatmap = sns.heatmap(confusion_matrix_df, annot=True, annot_kws={\"size\": 20}, fmt=\"d\")\n",
    "heatmap.yaxis.set_ticklabels(heatmap.yaxis.get_ticklabels(), rotation=0, ha='right', fontsize = 14)\n",
    "heatmap.xaxis.set_ticklabels(heatmap.xaxis.get_ticklabels(), rotation=45, ha='right', fontsize = 14)\n",
    "plt.ylabel('True label', fontsize = 14)\n",
    "plt.xlabel('Predicted label', fontsize = 14)"
   ]
  },
  {
   "cell_type": "markdown",
   "metadata": {},
   "source": [
    "The models are not predicting the subscription class (1) well. There is a high amount of false negatives and false positives. First I'll try to rebalance the dataset to see if I get better results, than I'll try to tune the hyperparameters to see if I get better metrics."
   ]
  },
  {
   "cell_type": "code",
   "execution_count": 95,
   "metadata": {},
   "outputs": [
    {
     "data": {
      "text/plain": [
       "0.67"
      ]
     },
     "execution_count": 95,
     "metadata": {},
     "output_type": "execute_result"
    }
   ],
   "source": [
    "#ROC AUC score\n",
    "\n",
    "from sklearn.metrics import roc_auc_score\n",
    "\n",
    "round(roc_auc_score(y_test,y_pred),2)"
   ]
  },
  {
   "cell_type": "code",
   "execution_count": null,
   "metadata": {},
   "outputs": [],
   "source": []
  }
 ],
 "metadata": {
  "kernelspec": {
   "display_name": "Python 3",
   "language": "python",
   "name": "python3"
  },
  "language_info": {
   "codemirror_mode": {
    "name": "ipython",
    "version": 3
   },
   "file_extension": ".py",
   "mimetype": "text/x-python",
   "name": "python",
   "nbconvert_exporter": "python",
   "pygments_lexer": "ipython3",
   "version": "3.7.3"
  }
 },
 "nbformat": 4,
 "nbformat_minor": 2
}
